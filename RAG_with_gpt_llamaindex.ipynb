{
  "cells": [
    {
      "cell_type": "code",
      "execution_count": 1,
      "metadata": {
        "id": "It3W4vr0OHwJ"
      },
      "outputs": [],
      "source": [
        "from llama_index.evaluation import generate_question_context_pairs\n",
        "from llama_index import VectorStoreIndex, SimpleDirectoryReader, ServiceContext\n",
        "from llama_index.node_parser import SimpleNodeParser\n",
        "from llama_index.evaluation import generate_question_context_pairs\n",
        "from llama_index.evaluation import RetrieverEvaluator\n",
        "from llama_index.llms import OpenAI\n",
        "\n",
        "import os\n",
        "import pandas as pd"
      ]
    },
    {
      "cell_type": "code",
      "execution_count": 2,
      "metadata": {
        "id": "zMRfWV3sOZPy"
      },
      "outputs": [],
      "source": [
        "os.environ['OPENAI_API_KEY'] = '************************'\n",
        "\n",
        "llm = OpenAI(model=\"gpt-4-1106-preview\")"
      ]
    },
    {
      "cell_type": "code",
      "execution_count": 5,
      "metadata": {},
      "outputs": [],
      "source": [
        "from llama_index import StorageContext, load_index_from_storage\n",
        "\n",
        "# rebuild storage context\n",
        "storage_context = StorageContext.from_defaults(persist_dir=\"TriggerIO\")\n",
        "\n",
        "# load index\n",
        "vector_index = load_index_from_storage(storage_context)\n",
        "query_engine = vector_index.as_query_engine()"
      ]
    },
    {
      "cell_type": "code",
      "execution_count": 19,
      "metadata": {
        "id": "WZmV08MNQ0G7"
      },
      "outputs": [],
      "source": [
        "prompt = 'send summary of all slack messages to whatsapp at 6pm everyday'\n",
        "\n",
        "template = f\"generate code for automation of following task using instructions. \\\n",
        "            Instructions: \\\n",
        "                'use the example codes for each required sdk. \\\n",
        "                refer guides and concepts from documentaion. \\\n",
        "                refer References to perform tasks. \\\n",
        "                refer Integrations to know about external apps. \\\n",
        "                give only code, no unnessasary talks.' \\\n",
        "                task: {prompt}\"\n",
        "response_vector = query_engine.query(template)"
      ]
    },
    {
      "cell_type": "code",
      "execution_count": 21,
      "metadata": {},
      "outputs": [
        {
          "name": "stdout",
          "output_type": "stream",
          "text": [
            "To send a summary of all Slack messages to WhatsApp at 6pm every day, you can use the following code:\n",
            "\n",
            "```javascript\n",
            "import { TriggerClient, cronTrigger } from \"@trigger.dev/sdk\";\n",
            "import { Slack } from \"@trigger.dev/slack\";\n",
            "import { Twilio } from \"@trigger.dev/twilio\";\n",
            "\n",
            "const slack = new Slack({ id: \"slack\" });\n",
            "const twilio = new Twilio({ id: \"twilio\" });\n",
            "\n",
            "const sendSummaryToWhatsApp = async () => {\n",
            "  const messages = await slack.getMessages(); // Reference: Slack SDK documentation\n",
            "\n",
            "  let summary = \"\";\n",
            "  for (const message of messages) {\n",
            "    summary += `${message.user}: ${message.text}\\n`;\n",
            "  }\n",
            "\n",
            "  await twilio.sendMessage({\n",
            "    to: \"YOUR_PHONE_NUMBER\", // Replace with the phone number to send the summary to\n",
            "    body: summary,\n",
            "  }); // Reference: Twilio SDK documentation\n",
            "};\n",
            "\n",
            "const trigger = cronTrigger({\n",
            "  run: sendSummaryToWhatsApp,\n",
            "  schedule: \"0 18 * * *\", // Run at 6pm every day\n",
            "}); // Reference: Trigger SDK documentation\n",
            "\n",
            "const client = new TriggerClient();\n",
            "client.createJob({\n",
            "  id: \"slack-to-whatsapp-summary\",\n",
            "  name: \"Slack to WhatsApp Summary\",\n",
            "  integrations: { slack, twilio },\n",
            "  trigger,\n",
            "});\n",
            "```\n",
            "\n",
            "Please note that you will need to replace \"YOUR_PHONE_NUMBER\" with the actual phone number you want to send the summary to. Additionally, make sure you have the necessary API keys and permissions set up for both Slack and Twilio.\n"
          ]
        }
      ],
      "source": [
        "print(f\"\"\"{response_vector.response}\"\"\")"
      ]
    }
  ],
  "metadata": {
    "accelerator": "GPU",
    "colab": {
      "gpuType": "T4",
      "provenance": []
    },
    "kernelspec": {
      "display_name": "Python 3",
      "name": "python3"
    },
    "language_info": {
      "codemirror_mode": {
        "name": "ipython",
        "version": 3
      },
      "file_extension": ".py",
      "mimetype": "text/x-python",
      "name": "python",
      "nbconvert_exporter": "python",
      "pygments_lexer": "ipython3",
      "version": "3.8.10"
    }
  },
  "nbformat": 4,
  "nbformat_minor": 0
}
